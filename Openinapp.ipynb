{
  "nbformat": 4,
  "nbformat_minor": 0,
  "metadata": {
    "colab": {
      "provenance": [],
      "gpuType": "T4",
      "private_outputs": true,
      "cell_execution_strategy": "setup",
      "mount_file_id": "1YeHQfxm_3L842BRfDEOFcIEmT815y7Gn",
      "authorship_tag": "ABX9TyO/hs06ak5eettiifdGHGmf",
      "include_colab_link": true
    },
    "kernelspec": {
      "name": "python3",
      "display_name": "Python 3"
    },
    "language_info": {
      "name": "python"
    },
    "accelerator": "GPU"
  },
  "cells": [
    {
      "cell_type": "markdown",
      "metadata": {
        "id": "view-in-github",
        "colab_type": "text"
      },
      "source": [
        "<a href=\"https://colab.research.google.com/github/Abhishek-J-abhi/Openin/blob/main/Openinapp.ipynb\" target=\"_parent\"><img src=\"https://colab.research.google.com/assets/colab-badge.svg\" alt=\"Open In Colab\"/></a>"
      ]
    },
    {
      "cell_type": "markdown",
      "source": [
        "###1.Mounting Google Drive:"
      ],
      "metadata": {
        "id": "fO0u6lODJRso"
      }
    },
    {
      "cell_type": "code",
      "source": [
        "#This mounts the google drive to your workspace\n",
        "from google.colab import drive\n",
        "drive.mount('/content/drive/')"
      ],
      "metadata": {
        "id": "iL_7KHLL1ZCX"
      },
      "execution_count": null,
      "outputs": []
    },
    {
      "cell_type": "markdown",
      "source": [
        "This code mounts the Google Drive to the /content/drive directory, making it accessible within the Colab notebook."
      ],
      "metadata": {
        "id": "Y27swTIHJawz"
      }
    },
    {
      "cell_type": "markdown",
      "source": [
        "###2.Installing Dependencies:"
      ],
      "metadata": {
        "id": "H5yfLxy1Jg1O"
      }
    },
    {
      "cell_type": "code",
      "source": [
        "!apt install ffmpeg\n",
        "!apt install libmagic1 python3-yaml\n",
        "!apt install libvulkan-dev\n",
        "!pip install --user youtube-dl\n",
        "!wget https://github.com/k4yt3x/video2x/archive/refs/tags/4.7.0.tar.gz\n",
        "!ls"
      ],
      "metadata": {
        "id": "EIJLUCcI18qt"
      },
      "execution_count": null,
      "outputs": []
    },
    {
      "cell_type": "markdown",
      "source": [
        "These commands install the necessary dependencies for video processing, including ffmpeg for video manipulation, libmagic1 for file format identification, python3-yaml for YAML file processing, libvulkan-dev for Vulkan support, and youtube-dl for downloading YouTube videos."
      ],
      "metadata": {
        "id": "SNciLCVFJoOm"
      }
    },
    {
      "cell_type": "markdown",
      "source": [
        "###3.Downloading and Extracting video2x:"
      ],
      "metadata": {
        "id": "R-QdZqB_MO1y"
      }
    },
    {
      "cell_type": "code",
      "source": [
        "!tar -xvf 4.7.0.tar.gz\n",
        "!ls"
      ],
      "metadata": {
        "id": "Vv_EyQ_J2t9U"
      },
      "execution_count": null,
      "outputs": []
    },
    {
      "cell_type": "code",
      "source": [
        "%cd video2x-4.7.0/src"
      ],
      "metadata": {
        "id": "miSjXejE2w5e"
      },
      "execution_count": null,
      "outputs": []
    },
    {
      "cell_type": "code",
      "source": [
        "!pip install -r /content/video2x-4.7.0/src/requirements.txt\n",
        "!rm -rf /content/video2x-4.7.0/src/video2x.yaml\n",
        "!wget -O /content/video2x-4.7.0/src/video2x.yaml https://raw.githubusercontent.com/lenardcarroll/video2x.yaml/main/video2x.yaml"
      ],
      "metadata": {
        "id": "acwGRZm522m8"
      },
      "execution_count": null,
      "outputs": []
    },
    {
      "cell_type": "markdown",
      "source": [
        "These commands download the video2x source code as a tarball, extract it, and install the required Python packages specified in the requirements.txt file."
      ],
      "metadata": {
        "id": "LWv1Cmu6Ko7K"
      }
    },
    {
      "cell_type": "code",
      "source": [
        "%cd ../.."
      ],
      "metadata": {
        "id": "NdRTu_rv25kK"
      },
      "execution_count": null,
      "outputs": []
    },
    {
      "cell_type": "markdown",
      "source": [
        "###4.Downloading and Extracting realsr-ncnn-vulkan, srmd-ncnn-vulkan, and waifu2x-ncnn-vulkan, PyYAML:\n"
      ],
      "metadata": {
        "id": "Sr-KdQXxKw0a"
      }
    },
    {
      "cell_type": "code",
      "source": [
        "!wget https://github.com/nihui/realsr-ncnn-vulkan/releases/download/20200818/realsr-ncnn-vulkan-20200818-linux.zip\n",
        "!unzip realsr-ncnn-vulkan-20200818-linux.zip\n",
        "!wget https://github.com/nihui/srmd-ncnn-vulkan/releases/download/20200818/srmd-ncnn-vulkan-20200818-linux.zip\n",
        "!unzip srmd-ncnn-vulkan-20200818-linux\n",
        "!wget https://github.com/nihui/waifu2x-ncnn-vulkan/releases/download/20200818/waifu2x-ncnn-vulkan-20200818-linux.zip\n",
        "!unzip waifu2x-ncnn-vulkan-20200818-linux.zip\n",
        "!rm *-linux.zip\n",
        "!pip install -U PyYAML"
      ],
      "metadata": {
        "id": "vb8rsr-S2_l3"
      },
      "execution_count": null,
      "outputs": []
    },
    {
      "cell_type": "markdown",
      "source": [
        "These commands download and extract the precompiled binaries for realsr-ncnn-vulkan, srmd-ncnn-vulkan, waifu2x-ncnn-vulkan, and PyYAML which are used for video upscaling."
      ],
      "metadata": {
        "id": "_2Bu74pDKu--"
      }
    },
    {
      "cell_type": "markdown",
      "source": [
        "###5.Creating Output Directory:"
      ],
      "metadata": {
        "id": "vXxWUY00LGHS"
      }
    },
    {
      "cell_type": "code",
      "source": [
        "#create directory where the images/videos are housed\n",
        "!mkdir drive/'MyDrive'/videoupscaling\n",
        "!mkdir drive/'MyDrive'/videoupscaling/Output"
      ],
      "metadata": {
        "id": "V9WgJaqy3BN-"
      },
      "execution_count": null,
      "outputs": []
    },
    {
      "cell_type": "markdown",
      "source": [
        "These commands create directories on Google Drive named videoupscaling and videoupscaling/Output for storing input and output videos, respectively."
      ],
      "metadata": {
        "id": "Bgtbwq0vLTMj"
      }
    },
    {
      "cell_type": "markdown",
      "source": [
        "###6.Displaying Help for video2x.py:"
      ],
      "metadata": {
        "id": "VTN0pZDoLUVn"
      }
    },
    {
      "cell_type": "code",
      "source": [
        "!python video2x-4.7.0/src/video2x.py --help"
      ],
      "metadata": {
        "id": "WvpeNmMV3J6g"
      },
      "execution_count": null,
      "outputs": []
    },
    {
      "cell_type": "markdown",
      "source": [
        "This command displays the help information for the video2x.py script, providing detailed instructions on its usage and options."
      ],
      "metadata": {
        "id": "uyyr3u1TLePZ"
      }
    },
    {
      "cell_type": "markdown",
      "source": [
        "###7.Upscaling Example:"
      ],
      "metadata": {
        "id": "KzRnrdsALiqo"
      }
    },
    {
      "cell_type": "code",
      "source": [
        "#Upscaling happens here!\n",
        "!python video2x-4.7.0/src/video2x.py -i /content/drive/'MyDrive'/videoupscaling/Bob_270.mp4 -o /content/drive/'MyDrive'/videoupscaling/Output/Bob_1080.mp4 -d srmd_ncnn_vulkan -r 4.0"
      ],
      "metadata": {
        "id": "6izC54Ke3QHL"
      },
      "execution_count": null,
      "outputs": []
    },
    {
      "cell_type": "markdown",
      "source": [
        "This command upscales the video Bob_270.mp4 from 270p to 1080p using the srmd"
      ],
      "metadata": {
        "id": "CMjQHWFkLoQC"
      }
    }
  ]
}